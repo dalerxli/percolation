{
 "cells": [
  {
   "cell_type": "code",
   "execution_count": 6,
   "metadata": {
    "collapsed": true
   },
   "outputs": [],
   "source": [
    "import matplotlib.pyplot as plt\n",
    "import numpy as np\n",
    "%matplotlib inline\n",
    "from cython import *\n",
    "from sympy import lambdify\n",
    "import copy\n",
    "import functools"
   ]
  },
  {
   "cell_type": "code",
   "execution_count": 7,
   "metadata": {
    "collapsed": true
   },
   "outputs": [],
   "source": [
    "#pf = open(\"wresult_130-155_100_200.txt\",\"r\")\n",
    "pf = open(\"first_test.txt\")"
   ]
  },
  {
   "cell_type": "code",
   "execution_count": 8,
   "metadata": {
    "collapsed": false
   },
   "outputs": [],
   "source": [
    "occ  = []\n",
    "prob = []\n",
    "for i,line in enumerate(pf):\n",
    "    r = list(map(float, line.split('\\t')))\n",
    "    occ.append( r[0] )\n",
    "    prob.append( r[1] )"
   ]
  },
  {
   "cell_type": "code",
   "execution_count": 9,
   "metadata": {
    "collapsed": false
   },
   "outputs": [],
   "source": [
    "nprob = np.array(prob)"
   ]
  },
  {
   "cell_type": "code",
   "execution_count": 10,
   "metadata": {
    "collapsed": false
   },
   "outputs": [],
   "source": [
    "closest = np.argmin(abs(nprob-0.5))"
   ]
  },
  {
   "cell_type": "code",
   "execution_count": 11,
   "metadata": {
    "collapsed": false
   },
   "outputs": [
    {
     "name": "stdout",
     "output_type": "stream",
     "text": [
      "0.695\n"
     ]
    }
   ],
   "source": [
    "print(occ[closest])"
   ]
  },
  {
   "cell_type": "code",
   "execution_count": 12,
   "metadata": {
    "collapsed": false
   },
   "outputs": [
    {
     "data": {
      "text/plain": [
       "<matplotlib.text.Text at 0x7fe4bef80240>"
      ]
     },
     "execution_count": 12,
     "metadata": {},
     "output_type": "execute_result"
    },
    {
     "data": {
      "image/png": "[encoded data removed]",
      "text/plain": [
       "<matplotlib.figure.Figure at 0x7fe4bf05c198>"
      ]
     },
     "metadata": {},
     "output_type": "display_data"
    }
   ],
   "source": [
    "title_3d = \"3d vortices problem (400x400x400 simulation)\"\n",
    "title_2d = \"2d nanowires problem (100x100) \"\n",
    "xlabel_3d = 'Density of conductive vortices'\n",
    "xlabel_2d = 'Number of nanowires, length = 1'\n",
    "fig, ax = plt.subplots(1,1, figsize=(6,5), sharey=True, dpi =600)\n",
    "ax.set_title(title_2d);\n",
    "ax.plot(occ[:], prob[:] )\n",
    "#ax.plot(tlist, oldoutput.expect[1+idx], label=\"Transmon %i state\"%idx)\n",
    "#ax.plot(tlist, 0.2+ 0.1*time_c_func(a=a,b=b,st=st,t=tlist,w=Eq,phase1=phase1,phase2=phase2,a2=a2,b2=b2),label=\"pulse (not exact)\")\n",
    "ax.set_ylim(-0.1,1.1)\n",
    "\n",
    "ax.set_xlabel(xlabel_2d)\n",
    "\n",
    "ax.set_ylabel('Percolation probability')"
   ]
  },
  {
   "cell_type": "code",
   "execution_count": null,
   "metadata": {
    "collapsed": true
   },
   "outputs": [],
   "source": []
  }
 ],
 "metadata": {
  "kernelspec": {
   "display_name": "Python 3",
   "language": "python",
   "name": "python3"
  },
  "language_info": {
   "codemirror_mode": {
    "name": "ipython",
    "version": 3
   },
   "file_extension": ".py",
   "mimetype": "text/x-python",
   "name": "python",
   "nbconvert_exporter": "python",
   "pygments_lexer": "ipython3",
   "version": "3.5.2"
  }
 },
 "nbformat": 4,
 "nbformat_minor": 2
}
